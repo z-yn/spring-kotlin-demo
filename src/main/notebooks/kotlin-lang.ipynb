{
 "cells": [
  {
   "cell_type": "markdown",
   "source": [
    "## 变量\n",
    "1. Kotlin使用关键字`val`定义常量,相当于Java中的`final`,\n",
    "2. 使用关键字`var`定义变量，\n",
    "3. 类型可以自动推导(推导为非空类型)\n",
    "4. Kotlin是空安全的,默认是非空的。如果可以为空则需要使用`?`来标注类型。"
   ],
   "metadata": {
    "collapsed": false
   }
  },
  {
   "cell_type": "code",
   "execution_count": 1,
   "outputs": [
    {
     "name": "stdout",
     "output_type": "stream",
     "text": [
      "inferred type is java.lang.String\n"
     ]
    }
   ],
   "source": [
    "val inferedString = \"ktolin\"\n",
    "println(\"inferred type is ${inferedString::class.java.name}\")\n",
    "val valueVars: String = \"kotlin\"\n",
    "var variableVars: String = \"kotlin\"\n",
    "var inferedValueString = \"kotlin\"\n",
    "//inferedValueString = null  //错误，var猜测的是非空的\n",
    "var nullableValue: String? = null"
   ],
   "metadata": {
    "collapsed": false,
    "ExecuteTime": {
     "end_time": "2023-08-15T06:44:53.646185Z",
     "start_time": "2023-08-15T06:44:53.118759Z"
    }
   }
  },
  {
   "cell_type": "markdown",
   "source": [
    "## 空安全检测\n",
    "空安全是劝退入坑Kotlin的主要原因。\n",
    "需要清楚的指定每个字段是不是可以为空。如果为空调用时需要进行空判断。否则拒绝编译\n",
    "1. 使用`a?.b()`调用可以安全的调用,相当于\n",
    "    ```\n",
    "        if(a!=null) a.b()\n",
    "    ```\n",
    "2. 使用`a ?: b`调用可以安全的调用,相当于\n",
    "    ```\n",
    "        if(a!=null) a else b\n",
    "    ```"
   ],
   "metadata": {
    "collapsed": false
   }
  },
  {
   "cell_type": "code",
   "execution_count": 1,
   "outputs": [
    {
     "name": "stdout",
     "output_type": "stream",
     "text": [
      "randomValue is 0.36911702663455637\n",
      "a = null\n"
     ]
    },
    {
     "data": {
      "text/plain": "A IS NULL"
     },
     "execution_count": 1,
     "metadata": {},
     "output_type": "execute_result"
    }
   ],
   "source": [
    "val randomValue = Math.random()\n",
    "println(\"randomValue is $randomValue\")\n",
    "var a: String? = if (randomValue > 0.5) \"OK\" else null\n",
    "println(\"a = $a\")\n",
    "a?.let {\n",
    "    println(\"not null\")\n",
    "}\n",
    "a ?: \"A IS NULL\""
   ],
   "metadata": {
    "collapsed": false,
    "ExecuteTime": {
     "end_time": "2023-08-18T13:15:24.660049Z",
     "start_time": "2023-08-18T13:15:24.397766Z"
    }
   }
  },
  {
   "cell_type": "markdown",
   "source": [
    "## 流程控制\n",
    "if-else\n",
    "`when`语句替代了`switch`\n"
   ],
   "metadata": {
    "collapsed": false
   }
  },
  {
   "cell_type": "code",
   "execution_count": 5,
   "outputs": [
    {
     "name": "stdout",
     "output_type": "stream",
     "text": [
      "other\n"
     ]
    }
   ],
   "source": [
    "val randomValue = Math.random()\n",
    "when(randomValue) {\n",
    "    0.1 -> println(\"ss\")\n",
    "    0.2 -> println(\"ss\")\n",
    "    else-> println(\"other\")\n",
    "}"
   ],
   "metadata": {
    "collapsed": false,
    "ExecuteTime": {
     "end_time": "2023-08-18T13:22:55.758021Z",
     "start_time": "2023-08-18T13:22:55.694109Z"
    }
   }
  },
  {
   "cell_type": "markdown",
   "source": [
    "## 函数定义\n",
    "1. 函数使用fun定义。 函数支持参数默认值，支持具名传参,具名参数的一个好处就是可变参数不需要作为函数最后一个参数了，传参使用具名参数便不具有歧义。\n",
    "2. Kotlin中函数也是第一公民，函数也是一种类型。使用`::funName`可以获取该函数的实例,函数实例可以作为函数的传参\n",
    "3. 函数可以有接收者(receiver)，接收者是一种语法糖。但是看起来提供了*扩展函数*的功能\n",
    "4. 函数的接收者使得lambada表达式可以有*上下文*。这使得DSL可以实现\n",
    "5. lambda作为最后一个函数参数可以放到函数调用外用`{}`编写,且此时如果函数没有参数则可以省略()\n"
   ],
   "metadata": {
    "collapsed": false
   }
  },
  {
   "cell_type": "code",
   "execution_count": 5,
   "outputs": [
    {
     "name": "stdout",
     "output_type": "stream",
     "text": [
      "1 + 2 = 3\n",
      "class of addFun is class Line_7_jupyter$addFun$1\n",
      "1.add(2) = 3\n",
      "1 increase 1 is 2\n",
      "buildString: Hello 2Kotlin !!\n"
     ]
    }
   ],
   "source": [
    "fun addInt(a: Int, b: Int): Int = a + b\n",
    "//可以使用具名参数\n",
    "println(\"1 + 2 = ${addInt(a = 1, b = 2)}\")\n",
    "\n",
    "val addFun = ::addInt\n",
    "println(\"class of addFun is ${addFun::class.java}\")\n",
    "addFun.invoke(1, 2)\n",
    "addFun(1, 2) //语法糖 相当于 addFun.invoke(1, 2)\n",
    "\n",
    "//带receiver的函数。编译的JVM签名是 add(a:Int,b:Int)\n",
    "fun Int.add(b: Int): Int = this + b\n",
    "println(\"1.add(2) = ${1.add(2)}\")\n",
    "\n",
    "//参数默认值是编译实现的，并不同于函数重载，如果希望Java代码中调用需要使用注解@JvmOverload\n",
    "fun increase(a: Int, toAdd: Int = 1): Int = a + toAdd\n",
    "println(\"1 increase 1 is ${increase(1)}\")\n",
    "\n",
    "\n",
    "//接收器的函数作为参数，可以实现DSL效果的构造器能力。\n",
    "fun buildString(buildFunc: StringBuilder.() -> Unit): String {\n",
    "    val stringBuilder = StringBuilder()\n",
    "    stringBuilder.buildFunc()\n",
    "    return stringBuilder.toString()\n",
    "}\n",
    "\n",
    "val string = buildString {\n",
    "    append(\"Hello \")\n",
    "    append(2)\n",
    "    append(\"Kotlin \")\n",
    "    append(\"!!\")\n",
    "}\n",
    "println(\"buildString: $string\")\n",
    "\n"
   ],
   "metadata": {
    "collapsed": false,
    "ExecuteTime": {
     "end_time": "2023-08-15T06:45:47.918802Z",
     "start_time": "2023-08-15T06:45:47.080287Z"
    }
   }
  },
  {
   "cell_type": "markdown",
   "source": [
    "## 类定义\n",
    "1. Kotlin类定义也是使用class关键字定义，可以直接把构造函数放到类声明中\n",
    "2. 使用val和var声明的参数自动识别为属性。\n",
    "3. 默认的类，方法，属性都是final的。需要open显式指明可以被override\n",
    "4. object class是单例类"
   ],
   "metadata": {
    "collapsed": false
   }
  },
  {
   "cell_type": "code",
   "execution_count": 7,
   "outputs": [
    {
     "name": "stdout",
     "output_type": "stream",
     "text": [
      "小明\n",
      "小明\n"
     ]
    }
   ],
   "source": [
    "open class User(\n",
    "    val id: String,\n",
    "    var name: String\n",
    ")\n",
    "\n",
    "val user1 = User(\"1\", \"小明\")\n",
    "println(user1.name)\n",
    "object XiaoMing : User(\n",
    "    \"1\",\n",
    "    \"小明\"\n",
    ")\n",
    "println(XiaoMing.name)"
   ],
   "metadata": {
    "collapsed": false,
    "ExecuteTime": {
     "end_time": "2023-08-15T06:49:21.339761Z",
     "start_time": "2023-08-15T06:49:21.178914Z"
    }
   }
  }
 ],
 "metadata": {
  "kernelspec": {
   "display_name": "Kotlin",
   "language": "kotlin",
   "name": "kotlin"
  },
  "language_info": {
   "name": "kotlin",
   "version": "1.8.20",
   "mimetype": "text/x-kotlin",
   "file_extension": ".kt",
   "pygments_lexer": "kotlin",
   "codemirror_mode": "text/x-kotlin",
   "nbconvert_exporter": ""
  }
 },
 "nbformat": 4,
 "nbformat_minor": 0
}
